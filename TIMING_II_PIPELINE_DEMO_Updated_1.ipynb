{
 "cells": [
  {
   "cell_type": "markdown",
   "metadata": {},
   "source": [
    "# TIMING II Pipeline Demo\n",
    "Welcome to TIMING II Pipeline!  This notebook will walk you step by step through the whole TIMING Pipeline, which includes the nanowell detection, cell segmentationa, tracking and feature calculation. The visualization module works independently from another terminal."
   ]
  },
  {
   "cell_type": "markdown",
   "metadata": {},
   "source": [
    "# Imports"
   ]
  },
  {
   "cell_type": "code",
   "execution_count": null,
   "metadata": {
    "scrolled": true
   },
   "outputs": [],
   "source": [
    "import sys, time"
   ]
  },
  {
   "cell_type": "markdown",
   "metadata": {},
   "source": [
    "## Env setup"
   ]
  },
  {
   "cell_type": "code",
   "execution_count": null,
   "metadata": {},
   "outputs": [],
   "source": [
    "CORE_NUMBER = 4   #Multi-core speed up setting\n",
    "\n",
    "TIMING_II_HOME = 'I:\\\\1_Study_Research_Fun\\\\2018\\\\2_Proposal\\\\TIMING_Bioinformatics\\\\TIMING2_Windows_4\\\\'\n",
    "\n",
    "############################################## Don't Modify below in this code cell ################################### \n",
    "# This is needed for nanowell detection.\n",
    "sys.path.append(TIMING_II_HOME + 'timing2-preprocessing\\\\')\n",
    "\n",
    "# This is needed for nanowell detection.\n",
    "sys.path.append(TIMING_II_HOME + 'timing2-crop\\\\faster-rcnn\\\\')\n",
    "\n",
    "# This is needed for nanowell cropping.\n",
    "sys.path.append(TIMING_II_HOME + 'timing2-crop\\\\')\n",
    "\n",
    "# This is needed for segmentation modules\n",
    "sys.path.append(TIMING_II_HOME + 'timing2-seg\\\\')\n",
    "\n",
    "# This is needed for Cell Tracking.\n",
    "sys.path.append(TIMING_II_HOME + 'timing2-tracker\\\\')\n",
    "\n",
    "# This is needed for Utility functions.\n",
    "sys.path.append(TIMING_II_HOME + 'timing2-utils\\\\')\n",
    "\n",
    "# This is needed for feature calculation modules\n",
    "sys.path.append(TIMING_II_HOME + 'timing2-features\\\\')"
   ]
  },
  {
   "cell_type": "markdown",
   "metadata": {},
   "source": [
    "## TIMING II Parameter Configuration\n",
    "Set up the parameters below before running the process for a batch of input data."
   ]
  },
  {
   "cell_type": "code",
   "execution_count": null,
   "metadata": {},
   "outputs": [],
   "source": [
    "### Part 1: Dataset Parameters\n",
    "Dataset_Name = 'TEST'\n",
    "Data_Raw_DIR = 'I:\\\\1_Study_Research_Fun\\\\2018\\\\2_Proposal\\\\TIMING_Bioinformatics\\\\TIMING2_Datasets_Raw'\n",
    "Data_DIR = 'I:\\\\1_Study_Research_Fun\\\\2018\\\\2_Proposal\\\\TIMING_Bioinformatics\\\\TIMING2_Benchmark_Datasets'\n",
    "\n",
    "Dataset_Input = 'IN'\n",
    "Dataset_Output = 'OUT'\n",
    "\n",
    "Dataset_Blocks = ['B001'] #Dataset_Blocks = ['B'+str(i).zfill(3) for i in range(1,2)]\n",
    "Dataset_Channels = ['CH0','CH1','CH2','CH3']\n",
    "Dataset_Frames = 72\n",
    "Block_Size = 2048 #pixels\n",
    "Nanowell_Size = 281 #pixels\n",
    "\n",
    "### Part 2: Preprocessing Parameters\n",
    "stack_tuple = (\"bright_field\",\"effectors\",\"targets\",\"death\")\n",
    "\n",
    "unmix_tuple = (\"targets\",\"effectors\", \"death\")\n",
    "unmix_tuple_clean = (\"targets\", \"effectors\")\n",
    "unmix_ratio_c2_c3 = 0.3\n",
    "unmix_ratio_c3_c4 = 0.7\n",
    "\n",
    "enhance_tuple = (\"targets\",)\n",
    "min_pixel_value = 0\n",
    "max_pixel_value = 3000\n",
    "\n",
    "preprocess_tuple = (\"effectors\",\"targets\")\n",
    "\n",
    "channel_dict = {\"bright_field\":\"c1_ORG\",\n",
    "                \"effectors\":\"c4_ORG\",\n",
    "                \"targets\":\"c3_ORG\",\n",
    "                \"death\":\"c2_ORG\",\n",
    "                \"beads_1\":\"--\",\n",
    "                \"beads_2\":\"--\"}\n",
    "\n",
    "channel_naming_dict = {\"bright_field\":\"0\",\n",
    "                       \"effectors\":\"1\",\n",
    "                       \"targets\":\"2\",\n",
    "                       \"death\":\"3\",\n",
    "                       \"beads_1\":\"4\",\n",
    "                       \"beads_2\":\"5\"}\n",
    "microscope = 'zeiss'\n",
    "\n",
    "\n",
    "### Part 3: Pipeline Parameters\n",
    "\n",
    "# Segmentation Radius for Channel 1 and 2\n",
    "R_CH1 = 23\n",
    "R_CH2 = 24\n",
    "\n",
    "# Resegmentation Configuration\n",
    "CELL_COUNT_THRESHOLD = 0.8\n",
    "CELL_COUNT_MAX = 4"
   ]
  },
  {
   "cell_type": "markdown",
   "metadata": {},
   "source": [
    "# TIMING II Pipeline Step by Step"
   ]
  },
  {
   "cell_type": "markdown",
   "metadata": {},
   "source": [
    "## A. Preprocessing\n"
   ]
  },
  {
   "cell_type": "markdown",
   "metadata": {},
   "source": [
    "Step 0: Make directory for preprocessing, only need to run one time"
   ]
  },
  {
   "cell_type": "code",
   "execution_count": null,
   "metadata": {},
   "outputs": [],
   "source": [
    "from Preprocess_Wrapper import TIMING_Preprocess_Mkdir\n",
    "\n",
    "TIMING_Preprocess_Mkdir(Data_DIR, Dataset_Name, Dataset_Input, Dataset_Output, Dataset_Blocks)"
   ]
  },
  {
   "cell_type": "markdown",
   "metadata": {},
   "source": [
    "Step 1: Stack the Images"
   ]
  },
  {
   "cell_type": "code",
   "execution_count": null,
   "metadata": {},
   "outputs": [],
   "source": [
    "from Preprocess_Wrapper import TIMING_Preprocess_Stack\n",
    "\n",
    "t1 = time.time()\n",
    "\n",
    "TIMING_Preprocess_Stack(TIMING_II_HOME, Data_Raw_DIR, Data_DIR, Dataset_Name, Dataset_Input, Dataset_Output, Dataset_Blocks, stack_tuple, channel_dict, channel_naming_dict, microscope, CORE_NUMBER)\n",
    "\n",
    "print(\"1-STACK TIME: \" +str(time.time() - t1))"
   ]
  },
  {
   "cell_type": "markdown",
   "metadata": {},
   "source": [
    "Step 2.1: Unmixing the images, remove c2_ORG from c3_ORG, leaked from unmix_tuple[2] to unmix_tuple[0] "
   ]
  },
  {
   "cell_type": "code",
   "execution_count": null,
   "metadata": {},
   "outputs": [],
   "source": [
    "from Preprocess_Wrapper import TIMING_Preprocess_Unmix\n",
    "\n",
    "t1 = time.time()\n",
    "\n",
    "TIMING_Preprocess_Unmix(2, 0, unmix_ratio_c2_c3, TIMING_II_HOME, Data_Raw_DIR, Data_DIR, Dataset_Name, Dataset_Input, Dataset_Output, Dataset_Blocks, unmix_tuple, stack_tuple, channel_dict, channel_naming_dict, CORE_NUMBER)\n",
    "\n",
    "print(\"2.1-UNMIX TIME: \" +str(time.time() - t1))"
   ]
  },
  {
   "cell_type": "markdown",
   "metadata": {},
   "source": [
    "Step 2.2: Unmixing the images, remove c3_ORG from c4_ORG"
   ]
  },
  {
   "cell_type": "code",
   "execution_count": null,
   "metadata": {},
   "outputs": [],
   "source": [
    "from Preprocess_Wrapper import TIMING_Preprocess_Unmix\n",
    "\n",
    "t1 = time.time()\n",
    "\n",
    "TIMING_Preprocess_Unmix(0, 1, unmix_ratio_c3_c4, TIMING_II_HOME, Data_Raw_DIR, Data_DIR, Dataset_Name, Dataset_Input, Dataset_Output, Dataset_Blocks, unmix_tuple, stack_tuple, channel_dict, channel_naming_dict, CORE_NUMBER)\n",
    "\n",
    "print(\"2.2-UNMIX TIME: \" +str(time.time() - t1))"
   ]
  },
  {
   "cell_type": "markdown",
   "metadata": {},
   "source": [
    "Step 3: Background Subtraction"
   ]
  },
  {
   "cell_type": "code",
   "execution_count": null,
   "metadata": {},
   "outputs": [],
   "source": [
    "from Preprocess_Wrapper import TIMING_Preprocess_BackgroundSubtract\n",
    "\n",
    "t1 = time.time()\n",
    "\n",
    "TIMING_Preprocess_BackgroundSubtract(40, TIMING_II_HOME, Data_Raw_DIR, Data_DIR, Dataset_Name, Dataset_Input, Dataset_Output, Dataset_Blocks, preprocess_tuple, stack_tuple, unmix_tuple_clean, channel_dict, channel_naming_dict, CORE_NUMBER)\n",
    "\n",
    "print(\"3-BS TIME: \" +str(time.time() - t1))"
   ]
  },
  {
   "cell_type": "markdown",
   "metadata": {},
   "source": [
    "Step 4: Channel Enhancement because Target Channel Pixel value too small"
   ]
  },
  {
   "cell_type": "code",
   "execution_count": null,
   "metadata": {},
   "outputs": [],
   "source": [
    "from Preprocess_Wrapper import TIMING_Preprocess_Enhance\n",
    "\n",
    "t1 = time.time()\n",
    "\n",
    "TIMING_Preprocess_Enhance(min_pixel_value, max_pixel_value,TIMING_II_HOME, Data_Raw_DIR, Data_DIR, Dataset_Name, Dataset_Input, Dataset_Output, Dataset_Blocks, enhance_tuple, channel_dict, channel_naming_dict, CORE_NUMBER)\n",
    "\n",
    "print(\"4-Channel Enhancement TIME: \" +str(time.time() - t1))            \n"
   ]
  },
  {
   "cell_type": "markdown",
   "metadata": {},
   "source": [
    "## B. Nanowell Localization, Classification and Cropping\n",
    " We use faster r-cnn to do nanowell localization and identify the empty ones which we will discard automatically. Small image patch will be cropped right after the localization."
   ]
  },
  {
   "cell_type": "code",
   "execution_count": null,
   "metadata": {},
   "outputs": [],
   "source": [
    "from Crop_Wrapper import TIMING_Crop\n",
    "\n",
    "t1 = time.time()\n",
    "\n",
    "TIMING_Crop(TIMING_II_HOME, Data_DIR, Dataset_Name, Dataset_Input, Dataset_Output, Dataset_Blocks, Dataset_Frames, Nanowell_Size, Block_Size)\n",
    "\n",
    "print(\"STEP-CROPPING TIME: \" +str(time.time() - t1))"
   ]
  },
  {
   "cell_type": "markdown",
   "metadata": {},
   "source": [
    "## C. Cell Segmentation \n",
    "We use i-vote to detect the seeds for cell candidates. And we use k-means to extract the foreground of cells from the fluorescent channels(CH1 and CH2). Individual cell bodies are clustered based on their distance from each detected seeds."
   ]
  },
  {
   "cell_type": "code",
   "execution_count": null,
   "metadata": {},
   "outputs": [],
   "source": [
    "from Segment_Wrapper import TIMING_Segment\n",
    "\n",
    "t1 = time.time()\n",
    "\n",
    "TIMING_Segment(TIMING_II_HOME, Data_DIR, Dataset_Name, Dataset_Input, Dataset_Output, Dataset_Blocks, Dataset_Frames, CORE_NUMBER, R_CH1, R_CH2, Nanowell_Size, Block_Size)\n",
    "\n",
    "print(\"STEP-CELL SEGMENTATION TIME: \" +str(time.time() - t1))"
   ]
  },
  {
   "cell_type": "markdown",
   "metadata": {},
   "source": [
    "## D. Confinement-Constrained Cell Resegmentation\n",
    "Assume the numbers of cells detected are constant throughout the whole time line. "
   ]
  },
  {
   "cell_type": "code",
   "execution_count": null,
   "metadata": {},
   "outputs": [],
   "source": [
    "from Resegment_Wrapper import TIMING_Resegment\n",
    "\n",
    "t1 = time.time()\n",
    "\n",
    "TIMING_Resegment(Data_DIR, Dataset_Name, Dataset_Output, Dataset_Blocks, Dataset_Frames, CORE_NUMBER, CELL_COUNT_THRESHOLD, CELL_COUNT_MAX)\n",
    "\n",
    "print(\"STEP-CELL RE-SEGMENTATION TIME: \" +str(time.time() - t1)) \n",
    "        "
   ]
  },
  {
   "cell_type": "markdown",
   "metadata": {},
   "source": [
    "## E. Cell Tracking\n",
    "Based on the results from cell segmentation. We define the cost functions for cell track assignment with cell center distance measure, cell size difference measure and set distance measure. We try to find the optimal tracking result by minimizing the cost function."
   ]
  },
  {
   "cell_type": "code",
   "execution_count": null,
   "metadata": {},
   "outputs": [],
   "source": [
    "from Tracking_Wrapper import TIMING_Tracker\n",
    "\n",
    "t1 = time.time()\n",
    "\n",
    "TIMING_Tracker(Data_DIR, Dataset_Name, Dataset_Output, Dataset_Blocks, Dataset_Frames, CORE_NUMBER)\n",
    "\n",
    "print(\"STEP-CELL TRACKING TIME: \" +str(time.time() - t1))"
   ]
  },
  {
   "cell_type": "markdown",
   "metadata": {},
   "source": [
    "## F. Cell Feature Calculation\n",
    "We quantify the cells in each identified tracks. For Effector cells in Channel 1, we calculate the centroid position, aspect ratio, speed and death marker level at each time point. For Target cells in Channel 2, we calculate an additional contact ratio."
   ]
  },
  {
   "cell_type": "code",
   "execution_count": null,
   "metadata": {},
   "outputs": [],
   "source": [
    "from Feature_Wrapper import TIMING_Features\n",
    "\n",
    "t1 = time.time()\n",
    "\n",
    "TIMING_Features(Data_DIR, Dataset_Name, Dataset_Output, Dataset_Blocks, Dataset_Frames)\n",
    "\n",
    "print(\"STEP-FEATURE CALCULATION TIME: \" +str(time.time() - t1))"
   ]
  }
 ],
 "metadata": {
  "anaconda-cloud": {},
  "kernelspec": {
   "display_name": "Python 3",
   "language": "python",
   "name": "python3"
  },
  "language_info": {
   "codemirror_mode": {
    "name": "ipython",
    "version": 3
   },
   "file_extension": ".py",
   "mimetype": "text/x-python",
   "name": "python",
   "nbconvert_exporter": "python",
   "pygments_lexer": "ipython3",
   "version": "3.5.4"
  }
 },
 "nbformat": 4,
 "nbformat_minor": 2
}
